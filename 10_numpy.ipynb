{
  "nbformat": 4,
  "nbformat_minor": 0,
  "metadata": {
    "colab": {
      "provenance": [],
      "toc_visible": true,
      "include_colab_link": true
    },
    "kernelspec": {
      "name": "python3",
      "display_name": "Python 3"
    },
    "language_info": {
      "name": "python"
    }
  },
  "cells": [
    {
      "cell_type": "markdown",
      "metadata": {
        "id": "view-in-github",
        "colab_type": "text"
      },
      "source": [
        "<a href=\"https://colab.research.google.com/github/julia-nosralla/CEE2/blob/main/10_numpy.ipynb\" target=\"_parent\"><img src=\"https://colab.research.google.com/assets/colab-badge.svg\" alt=\"Open In Colab\"/></a>"
      ]
    },
    {
      "cell_type": "markdown",
      "source": [
        "# Introdução ao NumPy"
      ],
      "metadata": {
        "id": "z-qiukcJzTIS"
      }
    },
    {
      "cell_type": "markdown",
      "source": [
        "O **NumPy** é uma das bibliotecas fundamentais para a computação científica em Python, sendo amplamente usada para trabalhar com arrays multidimensionais e operações matemáticas de alto desempenho. Ela fornece ferramentas para manipulação de dados, álgebra linear, estatísticas, etc.\n",
        "\n",
        "- Esta é uma rápida introdução ao NumPy que demonstra como matrizes n-dimensionais são representadas e podem ser manipulatadas.\n",
        "\n",
        "- Mais detalhes podem ser encontrados no tutorial: https://numpy.org/devdocs/user/quickstart.html\n",
        "\n",
        "A classe de matrizes do NumPy é chamada `ndarray` (ou simplesmente `array`). Note que `numpy.array` não é o mesmo que a classe `array.array` da biblioteca padrão do Python, a qual manipula apenas vetores unidimensionais e oferece menos funcionalidades.\n",
        "\n",
        "Os principais atributos de um objeto `ndarray` são:\n",
        "\n",
        "- `ndarray.ndim`: número de dimensões da matriz.\n",
        "\n",
        "- `ndarray.shape`: as dimensões da matriz. Uma tupla de inteiros indicando o tamanho em cada dimensão. Para uma matriz com linhas e colunas, o resultado será `(n, m)`. O tamanho da tupla é o mesmo que o número de eixos `ndim`.\n",
        "\n",
        "- `ndarray.size`: o número total de elementos na matriz. É igual ao produtos dos elementos do shape.\n",
        "\n",
        "- `ndarray.dtype`: um objeto que descreve o tipo dos elementos da matriz. Pode ser criado usando os tipos padrão do Python. Além destes, NumPy define outros tipos como `numpy.int32`, `numpy.int16`, e `numpy.float64`.\n",
        "\n",
        "- `ndarray.reshape`: permite alterar a dimensão de um array.\n"
      ],
      "metadata": {
        "id": "8-9lsUutzcVq"
      }
    },
    {
      "cell_type": "markdown",
      "source": [
        "## Criando Arrays\n",
        "\n",
        "O `array` é a estrutura de dados central do NumPy. Ele é mais eficiente e flexível do que as listas Python tradicionais.\n",
        "\n",
        "Importanto a biblioteca com\n",
        "```python\n",
        "import NumPy as np\n",
        "```\n",
        "\n",
        "Alguns módulos mais importantes da biblioteca são:\n",
        "\n",
        "* `np.array()`: cria arrays a partir de listas;\n",
        "* `np.zeros()`: cria um array preenchido com zeros;\n",
        "* `np.arange()`: cria um array com uma sequência de valores;\n",
        "* `np.linspace()`: cria um array de valores uniformemente espaçados.\n",
        "\n",
        "Veja os exemplo abaixo:"
      ],
      "metadata": {
        "id": "8wgGhC78jHsp"
      }
    },
    {
      "cell_type": "code",
      "source": [
        "# Criando um array a partir de uma lista:\n",
        "\n",
        "import numpy as np\n",
        "\n",
        "a = np.array([1, 2, 3, 4])\n",
        "print(a)                  # Saída: [1 2 3 4] (vetor)\n",
        "print(\"type:\", type(a))   # Saída: <class 'numpy.ndarray'>\n",
        "print(\"dtype:\", a.dtype)  # Saída: int64\n",
        "print(\"size:\", a.size)    # Saída: 4\n",
        "print(\"ndim:\", a.ndim)    # Saída: 1\n",
        "print(\"shape:\", a.shape)  # Saída: (4,)"
      ],
      "metadata": {
        "id": "DYjubt7PjWjm",
        "outputId": "01cca11e-56a4-4070-d0eb-04afe89f59a3",
        "colab": {
          "base_uri": "https://localhost:8080/"
        }
      },
      "execution_count": 1,
      "outputs": [
        {
          "output_type": "stream",
          "name": "stdout",
          "text": [
            "[1 2 3 4]\n",
            "type: <class 'numpy.ndarray'>\n",
            "dtype: int64\n",
            "size: 4\n",
            "ndim: 1\n",
            "shape: (4,)\n"
          ]
        }
      ]
    },
    {
      "cell_type": "code",
      "source": [
        "# Arrays de múltiplas dimensões:\n",
        "\n",
        "import numpy as np\n",
        "\n",
        "b = np.array([[1, 2, 3], [4, 5, 6]])\n",
        "print(b)                  # Saída: [[1 2 3] [4 5 6]] (matriz)\n",
        "print(\"type:\", type(b))   # Saída: <class 'numpy.ndarray'>\n",
        "print(\"dtype:\", b.dtype)  # Saída: int64\n",
        "print(\"size:\", b.size)    # Saída: 6\n",
        "print(\"ndim:\", b.ndim)    # Saída: 2\n",
        "print(\"shape:\", b.shape)  # Saída: (2, 3)"
      ],
      "metadata": {
        "id": "uXN7mcBzAxPb",
        "outputId": "587bb64b-9a05-4a88-c6df-c2470ed86cf3",
        "colab": {
          "base_uri": "https://localhost:8080/"
        }
      },
      "execution_count": 2,
      "outputs": [
        {
          "output_type": "stream",
          "name": "stdout",
          "text": [
            "[[1 2 3]\n",
            " [4 5 6]]\n",
            "type: <class 'numpy.ndarray'>\n",
            "dtype: int64\n",
            "size: 6\n",
            "ndim: 2\n",
            "shape: (2, 3)\n"
          ]
        }
      ]
    },
    {
      "cell_type": "code",
      "source": [
        "# Arrays com valores predefinidos\n",
        "\n",
        "import numpy as np\n",
        "\n",
        "## Array de zeros:\n",
        "print(\"--zeros--\")\n",
        "zeros = np.zeros((2, 3))\n",
        "print(\"dtype:\", zeros.dtype)  # Saída: float64\n",
        "print(zeros)                  # Saída: [[0. 0. 0.] [0. 0. 0.]]\n",
        "print(\"-----\")\n",
        "\n",
        "## Array de uns:\n",
        "print(\"--ones--\")\n",
        "ones = np.ones((2, 2))    # Matriz 2x2 de uns\n",
        "print(ones)               # Saída: [[1. 1.] [1. 1.]]\n",
        "print(\"-----\")"
      ],
      "metadata": {
        "id": "AwAtH2LjA0NM",
        "outputId": "1abf2447-b632-455f-8b4d-781b8a5d6320",
        "colab": {
          "base_uri": "https://localhost:8080/"
        }
      },
      "execution_count": 3,
      "outputs": [
        {
          "output_type": "stream",
          "name": "stdout",
          "text": [
            "--zeros--\n",
            "dtype: float64\n",
            "[[0. 0. 0.]\n",
            " [0. 0. 0.]]\n",
            "-----\n",
            "--ones--\n",
            "[[1. 1.]\n",
            " [1. 1.]]\n",
            "-----\n"
          ]
        }
      ]
    },
    {
      "cell_type": "markdown",
      "source": [
        "Para criar sequências de números o NumPy fornece a função `arange()` que é análoga à função `range()`."
      ],
      "metadata": {
        "id": "MtyUAHxRASXg"
      }
    },
    {
      "cell_type": "code",
      "source": [
        "# Arrays sequenciais\n",
        "\n",
        "import numpy as np\n",
        "\n",
        "## Array com valores de 0 a 9:\n",
        "print(\"--seq1--\")\n",
        "seq1 = np.arange(10)\n",
        "print(seq1)                # Saída: [0 1 2 3 4 5 6 7 8 9]\n",
        "print(\"-----\")\n",
        "\n",
        "# Cria um vetor com elementos de 10 a 30 com passo 5.\n",
        "print(\"--seq2--\")\n",
        "seq2 = np.arange(10, 30, 5)\n",
        "print(seq2)               # Saída: [10 15 20 25]\n",
        "print(\"-----\")\n",
        "\n",
        "## Array com valores igualmente espaçados:\n",
        "print(\"--lin--\")\n",
        "lin_space = np.linspace(0, 1, 5)  # 5 valores igualmente espaçados entre 0 e 1\n",
        "print(lin_space)          # Saída: [0.   0.25 0.5  0.75 1.  ]\n",
        "print(\"-----\")"
      ],
      "metadata": {
        "id": "gHYpKMfRA50F",
        "outputId": "ef4c4de1-c80e-43aa-a783-4abe14da995a",
        "colab": {
          "base_uri": "https://localhost:8080/"
        }
      },
      "execution_count": 4,
      "outputs": [
        {
          "output_type": "stream",
          "name": "stdout",
          "text": [
            "--seq1--\n",
            "[0 1 2 3 4 5 6 7 8 9]\n",
            "-----\n",
            "--seq2--\n",
            "[10 15 20 25]\n",
            "-----\n",
            "--lin--\n",
            "[0.   0.25 0.5  0.75 1.  ]\n",
            "-----\n"
          ]
        }
      ]
    },
    {
      "cell_type": "markdown",
      "source": [
        "Ao usar `arange()` com números não inteiros pode não ser possível predizer a quantidade de elementos obtidos devido à precisão do ponto flutuante. Melhor usar `linspace()` passando o número de elementos:"
      ],
      "metadata": {
        "id": "82TN58SYA5Mn"
      }
    },
    {
      "cell_type": "code",
      "source": [
        "import numpy as np\n",
        "\n",
        "x = np.linspace(0, 2 * np.pi, 30)  # Cria um vetor com 30 elementos entre 0 e 2pi.\n",
        "print(x)"
      ],
      "metadata": {
        "id": "_NYUTBMSBUk5",
        "outputId": "0f444f1f-49e9-4100-fc0c-ab9e89eb820f",
        "colab": {
          "base_uri": "https://localhost:8080/"
        }
      },
      "execution_count": 5,
      "outputs": [
        {
          "output_type": "stream",
          "name": "stdout",
          "text": [
            "[0.         0.21666156 0.43332312 0.64998469 0.86664625 1.08330781\n",
            " 1.29996937 1.51663094 1.7332925  1.94995406 2.16661562 2.38327719\n",
            " 2.59993875 2.81660031 3.03326187 3.24992343 3.466585   3.68324656\n",
            " 3.89990812 4.11656968 4.33323125 4.54989281 4.76655437 4.98321593\n",
            " 5.1998775  5.41653906 5.63320062 5.84986218 6.06652374 6.28318531]\n"
          ]
        }
      ]
    },
    {
      "cell_type": "markdown",
      "source": [
        "## Dimensão\n",
        "\n",
        "A dimensão de um array pode ser alterada utilizando o atributo `.reshape`. Veja o exemplo:"
      ],
      "metadata": {
        "id": "ymS47PlNswZr"
      }
    },
    {
      "cell_type": "code",
      "source": [
        "import numpy as np\n",
        "\n",
        "## vetor\n",
        "seq = np.arange(12)\n",
        "print(seq)  # Saída: [0 1 2 3 4 5 6 7 8 9 10 11]\n",
        "print(\"-----\")\n",
        "\n",
        "## matriz 3x4\n",
        "a = seq.reshape(3, 4)\n",
        "print(a)  # Saída: [[ 0  1  2  3] [ 4  5  6  7] [ 8  9 10 11]]\n",
        "print(\"-----\")\n",
        "\n",
        "## matriz 4x3\n",
        "b = seq.reshape(4, 3)\n",
        "print(b)  # Saída: [[ 0  1  2] [ 3  4  5] [ 6  7  8] [ 9 10 11]]"
      ],
      "metadata": {
        "id": "PetCK-bVs41_",
        "outputId": "cd8487d2-bff0-4ce3-ad6a-fe75755f628b",
        "colab": {
          "base_uri": "https://localhost:8080/"
        }
      },
      "execution_count": 6,
      "outputs": [
        {
          "output_type": "stream",
          "name": "stdout",
          "text": [
            "[ 0  1  2  3  4  5  6  7  8  9 10 11]\n",
            "-----\n",
            "[[ 0  1  2  3]\n",
            " [ 4  5  6  7]\n",
            " [ 8  9 10 11]]\n",
            "-----\n",
            "[[ 0  1  2]\n",
            " [ 3  4  5]\n",
            " [ 6  7  8]\n",
            " [ 9 10 11]]\n"
          ]
        }
      ]
    },
    {
      "cell_type": "markdown",
      "source": [
        "Existem diversas formas de se criar matrizes:"
      ],
      "metadata": {
        "id": "MWQ3hdg69flQ"
      }
    },
    {
      "cell_type": "code",
      "source": [
        "# O tipo é deduzido dos elementos.\n",
        "\n",
        "import numpy as np\n",
        "a = np.array([2, 3, 4])\n",
        "print(a)\n",
        "print(a.dtype)     ## exibe: dtype('int64')\n",
        "\n",
        "print(\"-----\")\n",
        "\n",
        "b = np.array([1.2, 3.5, 5.1])\n",
        "print(b)\n",
        "print(b.dtype)    ## exibe: dtype('float64')"
      ],
      "metadata": {
        "id": "XktvaZAt-R04",
        "outputId": "da58587a-de6e-46db-e9f8-6c16e907df85",
        "colab": {
          "base_uri": "https://localhost:8080/"
        }
      },
      "execution_count": 7,
      "outputs": [
        {
          "output_type": "stream",
          "name": "stdout",
          "text": [
            "[2 3 4]\n",
            "int64\n",
            "-----\n",
            "[1.2 3.5 5.1]\n",
            "float64\n"
          ]
        }
      ]
    },
    {
      "cell_type": "code",
      "source": [
        "# O tipo da matriz pode ser especificado explicitamente na criação:\n",
        "\n",
        "import numpy as np\n",
        "\n",
        "a = np.array([2, 3, 4], dtype= float)\n",
        "print(a)\n",
        "a.dtype     ## exibe: dtype('float64')\n",
        "\n",
        "print(\"-----\")\n",
        "\n",
        "c = np.array([[1, 2], [3, 4]], dtype= complex)\n",
        "c"
      ],
      "metadata": {
        "id": "xJYoVhVDCczj",
        "outputId": "b75949aa-5e2c-44ce-db19-0e8b9ecfe834",
        "colab": {
          "base_uri": "https://localhost:8080/"
        }
      },
      "execution_count": 8,
      "outputs": [
        {
          "output_type": "stream",
          "name": "stdout",
          "text": [
            "[2. 3. 4.]\n",
            "-----\n"
          ]
        },
        {
          "output_type": "execute_result",
          "data": {
            "text/plain": [
              "array([[1.+0.j, 2.+0.j],\n",
              "       [3.+0.j, 4.+0.j]])"
            ]
          },
          "metadata": {},
          "execution_count": 8
        }
      ]
    },
    {
      "cell_type": "markdown",
      "source": [
        "Um erro frequente consiste em chamar array com múltiplos argumentos, ao invés de uma sequência."
      ],
      "metadata": {
        "id": "J9mts1m9-SD_"
      }
    },
    {
      "cell_type": "code",
      "source": [
        "#a = np.array(1, 2, 3, 4)     # TypeError\n",
        "a = np.array([1, 2, 3, 4])   # CORRETO!"
      ],
      "metadata": {
        "id": "m84CUTVD-vfh"
      },
      "execution_count": null,
      "outputs": []
    },
    {
      "cell_type": "markdown",
      "source": [
        "O NumPy exibe a matriz de forma similar à listas aninhadas com o seguinte layout:\n",
        "\n",
        "- O último eixo é exibido da esquerda para a direita;\n",
        "\n",
        "- O penúltimo eixo é exibido de cima para baixo;\n",
        "\n",
        "- Os demais eixos são exibidos de cima para baixo separados por uma linha em branco;\n",
        "\n",
        "Vetores (unidimensional) são exibidos como vetorlinhas, matrizes bidimensionais como matrizes e matrizes tridimensionais como lista de matrizes."
      ],
      "metadata": {
        "id": "UnAroZ92BU3A"
      }
    },
    {
      "cell_type": "code",
      "source": [
        "a = np.arange(6)    # Cria um vetor com 6 elementos de 0 a 5.\n",
        "print(a)"
      ],
      "metadata": {
        "id": "qlldY-1eB3Yx",
        "outputId": "e65ccb7d-2625-4cb8-b8d3-9c91ce6b959f",
        "colab": {
          "base_uri": "https://localhost:8080/"
        }
      },
      "execution_count": 9,
      "outputs": [
        {
          "output_type": "stream",
          "name": "stdout",
          "text": [
            "[0 1 2 3 4 5]\n"
          ]
        }
      ]
    },
    {
      "cell_type": "code",
      "source": [
        "b = np.arange(12).reshape(4, 3)    # Cria uma matriz 4x3.\n",
        "print(b)"
      ],
      "metadata": {
        "id": "YEf7325YB5f_",
        "outputId": "7958c673-00f2-419f-ee7d-b994412d9c71",
        "colab": {
          "base_uri": "https://localhost:8080/"
        }
      },
      "execution_count": 10,
      "outputs": [
        {
          "output_type": "stream",
          "name": "stdout",
          "text": [
            "[[ 0  1  2]\n",
            " [ 3  4  5]\n",
            " [ 6  7  8]\n",
            " [ 9 10 11]]\n"
          ]
        }
      ]
    },
    {
      "cell_type": "code",
      "source": [
        "c = np.arange(24).reshape(2, 3, 4)  # Cria uma matriz tridimensional: 2x3x4.\n",
        "print(c)"
      ],
      "metadata": {
        "id": "QOvffrdMB6VH",
        "outputId": "ea29802b-1aa8-432e-bd05-a98d4723a8ac",
        "colab": {
          "base_uri": "https://localhost:8080/"
        }
      },
      "execution_count": 11,
      "outputs": [
        {
          "output_type": "stream",
          "name": "stdout",
          "text": [
            "[[[ 0  1  2  3]\n",
            "  [ 4  5  6  7]\n",
            "  [ 8  9 10 11]]\n",
            "\n",
            " [[12 13 14 15]\n",
            "  [16 17 18 19]\n",
            "  [20 21 22 23]]]\n"
          ]
        }
      ]
    },
    {
      "cell_type": "markdown",
      "source": [
        "Se a matriz é muito grande o NumPy automaticamente omite a parte central da matriz:"
      ],
      "metadata": {
        "id": "i9I0NDwJB3pA"
      }
    },
    {
      "cell_type": "code",
      "source": [
        "print(np.arange(10000))"
      ],
      "metadata": {
        "id": "YQgXgUeUCV2w",
        "outputId": "c82e330d-1913-4ae9-b35f-ad655809b353",
        "colab": {
          "base_uri": "https://localhost:8080/"
        }
      },
      "execution_count": 12,
      "outputs": [
        {
          "output_type": "stream",
          "name": "stdout",
          "text": [
            "[   0    1    2 ... 9997 9998 9999]\n"
          ]
        }
      ]
    },
    {
      "cell_type": "code",
      "source": [
        "print(np.arange(1000).reshape(10, 100))"
      ],
      "metadata": {
        "id": "p8cvmrIyCb3_",
        "collapsed": true
      },
      "execution_count": null,
      "outputs": []
    },
    {
      "cell_type": "markdown",
      "source": [
        "Para disabilitar, mude a opção usando:\n",
        "\n",
        "```python\n",
        "np.set_printoptions(threshold= sys.maxsize)\n",
        "```"
      ],
      "metadata": {
        "id": "DCc5iGzQCWFf"
      }
    },
    {
      "cell_type": "code",
      "source": [
        "## exemplo\n",
        "\n",
        "import sys\n",
        "\n",
        "np.set_printoptions(threshold= 5)\n",
        "\n",
        "print(np.arange(100).reshape(10, 10))"
      ],
      "metadata": {
        "id": "2OwsOKF_Qq2h"
      },
      "execution_count": null,
      "outputs": []
    },
    {
      "cell_type": "markdown",
      "source": [
        "## Exercício 1\n",
        "\n",
        "a) Crie um array de zeros com forma 3x3.\n",
        "\n",
        "b) Crie um array com números de 1 a 20, com passo de 3.\n"
      ],
      "metadata": {
        "id": "gxA0rbWh4cUi"
      }
    },
    {
      "cell_type": "code",
      "source": [
        "import numpy as np\n",
        "\n",
        "# cria array de zeros 3x3\n",
        "\n",
        "a = np.zeros((3,3))\n",
        "\n",
        "print(a, \"\\n\")\n",
        "\n",
        "# cria array com números de 1 a 20 com passo 3\n",
        "\n",
        "b = np.arange(1,22, 3)\n",
        "\n",
        "print(b)"
      ],
      "metadata": {
        "id": "P7mr8w3jbRve",
        "outputId": "2c39b1e1-22ab-4725-ac00-b3d6e7fc1baf",
        "colab": {
          "base_uri": "https://localhost:8080/"
        }
      },
      "execution_count": 28,
      "outputs": [
        {
          "output_type": "stream",
          "name": "stdout",
          "text": [
            "[[0. 0. 0.]\n",
            " [0. 0. 0.]\n",
            " [0. 0. 0.]] \n",
            "\n",
            "[ 1  4  7 10 13 16 19]\n"
          ]
        }
      ]
    },
    {
      "cell_type": "markdown",
      "source": [
        "## Operações básicas"
      ],
      "metadata": {
        "id": "OPcT67OACqKP"
      }
    },
    {
      "cell_type": "markdown",
      "source": [
        "Operadores aritméticos são aplicados em cada elemento. Uma nova matriz com o resultado é criada."
      ],
      "metadata": {
        "id": "08EEy92DCq1X"
      }
    },
    {
      "cell_type": "code",
      "source": [
        "import numpy as np\n",
        "\n",
        "a = np.array([2, 5, 4, 0])    # Cria um vetor com os vetores passados.\n",
        "b = np.arange(4)              # Cria um vetor com os valores 0, 1, 2, 3.\n",
        "\n",
        "print(a, \"\\n\")                # Exibe o vetor a.\n",
        "print(a+2, \"\\n\")              # Adição elemento a elemento.\n",
        "print(a+b, \"\\n\")              # Adição elemento a elemento.\n",
        "print(a-b, \"\\n\")              # Subtração elemento a elemento.\n",
        "print(b**2, \"\\n\")             # Exibe o vetor com os quadrados dos elementos de b.\n",
        "print(10 * np.sin(a), \"\\n\")   # Calcula 10 vezes seno dos elementos do vetor a.\n",
        "print(a < 3, \"\\n\")            # Retorna um vetor booleano com True para cada elemento menor que 35."
      ],
      "metadata": {
        "id": "4WondI1UDNc4",
        "outputId": "09d33a9e-e01d-447a-ee5d-3c07535cc992",
        "colab": {
          "base_uri": "https://localhost:8080/"
        }
      },
      "execution_count": 27,
      "outputs": [
        {
          "output_type": "stream",
          "name": "stdout",
          "text": [
            "[2 5 4 0] \n",
            "\n",
            "[4 7 6 2] \n",
            "\n",
            "[2 6 6 3] \n",
            "\n",
            "[ 2  4  2 -3] \n",
            "\n",
            "[0 1 4 9] \n",
            "\n",
            "[ 9.09297427 -9.58924275 -7.56802495  0.        ] \n",
            "\n",
            "[ True False False  True] \n",
            "\n"
          ]
        }
      ]
    },
    {
      "cell_type": "markdown",
      "source": [
        "O operador produto `*` opera elemento-a-elemento. O produto matricial é feito com `@` (Python >=3.5) ou com `dot()`:"
      ],
      "metadata": {
        "id": "y_J3g0HbDNsY"
      }
    },
    {
      "cell_type": "code",
      "source": [
        "A = np.array([[1, 1], [0, 1]])\n",
        "B = np.array([[2, 0], [3, 4]])\n",
        "\n",
        "print(A * B, \"\\n\")       # Produto elemento a elemento\n",
        "print(A @ B, \"\\n\")       # Produto matricial\n",
        "print(A.dot(B), \"\\n\")    # Produto matricial"
      ],
      "metadata": {
        "id": "IWc_-piADswn",
        "outputId": "5b4ba55d-4ba9-4ae2-97f0-2378575913f6",
        "colab": {
          "base_uri": "https://localhost:8080/"
        }
      },
      "execution_count": 29,
      "outputs": [
        {
          "output_type": "stream",
          "name": "stdout",
          "text": [
            "[[2 0]\n",
            " [0 4]] \n",
            "\n",
            "[[5 4]\n",
            " [3 4]] \n",
            "\n",
            "[[5 4]\n",
            " [3 4]] \n",
            "\n"
          ]
        }
      ]
    },
    {
      "cell_type": "markdown",
      "source": [
        "Operações como `+=` e `*=` modifica uma matriz existente ao invés de criar uma nova."
      ],
      "metadata": {
        "id": "WwFNFARyDtBH"
      }
    },
    {
      "cell_type": "code",
      "source": [
        "A = np.array([[1, 1], [0, 1]])\n",
        "B = np.array([[2, 0], [3, 4]])\n",
        "\n",
        "A *= 3\n",
        "print(A, \"\\n\")\n",
        "\n",
        "B += A\n",
        "print(B, \"\\n\")\n"
      ],
      "metadata": {
        "id": "vJSfhI3FEZQ4",
        "outputId": "532de496-6e22-40d6-9aac-07e06b3a49d6",
        "colab": {
          "base_uri": "https://localhost:8080/"
        }
      },
      "execution_count": 30,
      "outputs": [
        {
          "output_type": "stream",
          "name": "stdout",
          "text": [
            "[[3 3]\n",
            " [0 3]] \n",
            "\n",
            "[[5 3]\n",
            " [3 7]] \n",
            "\n"
          ]
        }
      ]
    },
    {
      "cell_type": "markdown",
      "source": [
        "Muitas operações são implementadas como métodos da classe `ndarray`."
      ],
      "metadata": {
        "id": "_7GmMiSuFTln"
      }
    },
    {
      "cell_type": "code",
      "source": [
        "A = np.array([[1, 1], [0, 1]])\n",
        "print(A)\n",
        "print(\"\\n\")\n",
        "print(A.sum())    # Exibe a soma dos elementos.\n",
        "print(A.min())    # Exibe o menor elemento.\n",
        "print(A.max())    # Exibe o maior elemento.\n",
        "print(A.mean())   # Exibe a média dos elementos.\n",
        "print(A.std())    # Exibe o desvio padrão dos elementos."
      ],
      "metadata": {
        "id": "_UElF5P4GBIB",
        "outputId": "8189c537-d807-48af-d524-5ad7f433d942",
        "colab": {
          "base_uri": "https://localhost:8080/"
        }
      },
      "execution_count": 31,
      "outputs": [
        {
          "output_type": "stream",
          "name": "stdout",
          "text": [
            "[[1 1]\n",
            " [0 1]]\n",
            "\n",
            "\n",
            "3\n",
            "0\n",
            "1\n",
            "0.75\n",
            "0.4330127018922193\n"
          ]
        }
      ]
    },
    {
      "cell_type": "markdown",
      "source": [
        "Por padrão, estas operações tratam a matriz como uma lista de números. No entanto, é possível especificar o eixos para aplicar a operação:"
      ],
      "metadata": {
        "id": "4m5TpZdNGBpf"
      }
    },
    {
      "cell_type": "code",
      "source": [
        "B = np.arange(12).reshape(3, 4)\n",
        "print( B, \"\\n\" )\n",
        "\n",
        "print( B.sum(axis= 0), \"\\n\" )      # soma de cada coluna\n",
        "print( B.min(axis= 1), \"\\n\" )      # mínimo de cada linha\n",
        "print( B.cumsum(axis= 1), \"\\n\" )   # soma cumulativa em cada linha"
      ],
      "metadata": {
        "id": "OcyUXKBeGlhH",
        "outputId": "9389b30d-e177-4a01-dd12-1b05845524f9",
        "colab": {
          "base_uri": "https://localhost:8080/"
        }
      },
      "execution_count": 32,
      "outputs": [
        {
          "output_type": "stream",
          "name": "stdout",
          "text": [
            "[[ 0  1  2  3]\n",
            " [ 4  5  6  7]\n",
            " [ 8  9 10 11]] \n",
            "\n",
            "[12 15 18 21] \n",
            "\n",
            "[0 4 8] \n",
            "\n",
            "[[ 0  1  3  6]\n",
            " [ 4  9 15 22]\n",
            " [ 8 17 27 38]] \n",
            "\n"
          ]
        }
      ]
    },
    {
      "cell_type": "markdown",
      "source": [
        "## Exercício 2\n",
        "\n",
        "* Crie um array com os valores `[10, 20, 30, 40, 50]`.\n",
        "* Subtraia `5` de cada elemento e, em seguida, eleve ao quadrado cada valor.\n",
        "* Apresente o vetor com a soma das colunas."
      ],
      "metadata": {
        "id": "y7zcg8589Eqj"
      }
    },
    {
      "cell_type": "code",
      "source": [
        "import numpy as np\n",
        "\n",
        "a = np.array([10, 20, 30, 40, 50])\n",
        "b = a - 5\n",
        "\n",
        "print(b)\n",
        "\n",
        "c = b ** 2\n",
        "print(c, \"\\n\")\n",
        "\n",
        "print(c.sum(axis= 0))"
      ],
      "metadata": {
        "id": "gBkRxAzgd1-q",
        "outputId": "50b79c18-a224-4ba4-cf57-0cb5fc831335",
        "colab": {
          "base_uri": "https://localhost:8080/"
        }
      },
      "execution_count": 41,
      "outputs": [
        {
          "output_type": "stream",
          "name": "stdout",
          "text": [
            "[ 5 15 25 35 45]\n",
            "[  25  225  625 1225 2025] \n",
            "\n",
            "4125\n"
          ]
        }
      ]
    },
    {
      "cell_type": "markdown",
      "source": [
        "## Funções universais"
      ],
      "metadata": {
        "id": "p6DNmB2Xqmtd"
      }
    },
    {
      "cell_type": "markdown",
      "source": [
        "Funções matemáticas como `sin()`, `cos()` e `exp()`, chamadas de *funções universais* (`ufunc`), operam emento-a-elemento."
      ],
      "metadata": {
        "id": "-hgjmFqTGlwv"
      }
    },
    {
      "cell_type": "code",
      "source": [
        "import numpy as np\n",
        "\n",
        "B = np.arange(3)               # Cria um vetor com 3 elementos.\n",
        "print(np.exp(B))               # Exibe o exponencial de cada elemento de B.\n",
        "print(np.sqrt(B))              # Exibe a raiz quadrada de cada elemento de B.\n",
        "C = np.array([2., -1., 4.])    # Cria um vetor com 3 elementos.\n",
        "print(np.add(B, C))            # Exibe a soma entre os vetores B e C."
      ],
      "metadata": {
        "id": "i0IPkDElHT0n",
        "outputId": "8f454a80-c3ae-47c6-f412-8e9a86526463",
        "colab": {
          "base_uri": "https://localhost:8080/"
        }
      },
      "execution_count": 42,
      "outputs": [
        {
          "output_type": "stream",
          "name": "stdout",
          "text": [
            "[1.         2.71828183 7.3890561 ]\n",
            "[0.         1.         1.41421356]\n",
            "[2. 0. 6.]\n"
          ]
        }
      ]
    },
    {
      "cell_type": "markdown",
      "source": [
        "## Indexação, fatiamento e iteração"
      ],
      "metadata": {
        "id": "giZJn49PumjF"
      }
    },
    {
      "cell_type": "markdown",
      "source": [
        "Vetores unidimensionais podem ser indexados, fatiados e iterados como se fosse uma lista."
      ],
      "metadata": {
        "id": "nL5ijMJAHUCW"
      }
    },
    {
      "cell_type": "code",
      "source": [
        "import numpy as np\n",
        "\n",
        "a = np.arange(10)           # Gera um vetor dos cubos de 0 a 9.\n",
        "\n",
        "print(a, \"\\n\")              # Exibe o vetor 'a'.\n",
        "print(a[2], \"\\n\")           # Exibe o terceiro elemento do vetor 'a'.\n",
        "print(a[2:5], \"\\n\")         # Exibe os elementos nas posições 2, 3, 4."
      ],
      "metadata": {
        "id": "oI3i2Y6LKjmB",
        "outputId": "6e042c58-0f27-43b1-c23e-18594a741662",
        "colab": {
          "base_uri": "https://localhost:8080/"
        }
      },
      "execution_count": 44,
      "outputs": [
        {
          "output_type": "stream",
          "name": "stdout",
          "text": [
            "[0 1 2 3 4 5 6 7 8 9] \n",
            "\n",
            "2 \n",
            "\n",
            "[2 3 4] \n",
            "\n"
          ]
        }
      ]
    },
    {
      "cell_type": "code",
      "source": [
        "a = np.arange(10)           # Gera um vetor dos cubos de 0 a 9.\n",
        "\n",
        "print(a, \"\\n\")              # Exibe o vetor 'a'.\n",
        "\n",
        "a[:6:2] = 10              # Substitui os elementos nas posições 0, 2 e 4 por 10.\n",
        "\n",
        "print(a, \"\\n\")              # Exibe o vetor 'a'\n",
        "\n",
        "print(a[::-1], \"\\n\")        # Exibe o vetor 'a' invertido."
      ],
      "metadata": {
        "id": "tquGxVYEHy6H",
        "outputId": "d6ba7197-ba54-4afd-e92e-9bb9c3d02728",
        "colab": {
          "base_uri": "https://localhost:8080/"
        }
      },
      "execution_count": 45,
      "outputs": [
        {
          "output_type": "stream",
          "name": "stdout",
          "text": [
            "[0 1 2 3 4 5 6 7 8 9] \n",
            "\n",
            "[10  1 10  3 10  5  6  7  8  9] \n",
            "\n",
            "[ 9  8  7  6  5 10  3 10  1 10] \n",
            "\n"
          ]
        }
      ]
    },
    {
      "cell_type": "markdown",
      "source": [
        "Matrizes multidimensionais tem `1` índice por eixo:"
      ],
      "metadata": {
        "id": "QLNFLuujHzJO"
      }
    },
    {
      "cell_type": "code",
      "source": [
        "b = np.array([[1, 2, 3], [4, 5, 6], [7, 8, 9]])\n",
        "\n",
        "print( b,\"\\n\")\n",
        "\n",
        "print(\"Primeira linha:\", b[0, :], \"\\n\")\n",
        "\n",
        "print(\"Terceira linha:\", b[2, :], \"\\n\")\n",
        "\n",
        "print(\"Elemento (2,3):\", b[1, 2], \"\\n\")"
      ],
      "metadata": {
        "id": "wgx0DjMUIU-5",
        "outputId": "857933e3-e258-4e18-87b7-d54ec2f533fb",
        "colab": {
          "base_uri": "https://localhost:8080/"
        }
      },
      "execution_count": 46,
      "outputs": [
        {
          "output_type": "stream",
          "name": "stdout",
          "text": [
            "[[1 2 3]\n",
            " [4 5 6]\n",
            " [7 8 9]] \n",
            "\n",
            "Primeira linha: [1 2 3] \n",
            "\n",
            "Terceira linha: [7 8 9] \n",
            "\n",
            "Elemento (2,3): 6 \n",
            "\n"
          ]
        }
      ]
    },
    {
      "cell_type": "code",
      "source": [
        "b = np.array([[1, 2, 3], [4, 5, 6], [7, 8, 9]])\n",
        "\n",
        "print( b,\"\\n\")\n",
        "\n",
        "print(b[:, 1], \"\\n\")      # todas as linhas e 2a coluna\n",
        "\n",
        "print(b[:2, 1], \"\\n\")     # 1a e 2a linhas e 2a coluna.\n",
        "\n",
        "print(b[1:, 2], \"\\n\")     # 2a e 3a linhas e 3a coluna.\n",
        "\n",
        "print(b[1:3, :])          # 2a e 3a linhas e todas as colunas."
      ],
      "metadata": {
        "id": "hcsBcoIjL-cl",
        "outputId": "2296d5ee-7388-489e-a595-fd62099eb346",
        "colab": {
          "base_uri": "https://localhost:8080/"
        }
      },
      "execution_count": 47,
      "outputs": [
        {
          "output_type": "stream",
          "name": "stdout",
          "text": [
            "[[1 2 3]\n",
            " [4 5 6]\n",
            " [7 8 9]] \n",
            "\n",
            "[2 5 8] \n",
            "\n",
            "[2 5] \n",
            "\n",
            "[6 9] \n",
            "\n",
            "[[4 5 6]\n",
            " [7 8 9]]\n"
          ]
        }
      ]
    },
    {
      "cell_type": "markdown",
      "source": [
        "Se forem passados menos índices que o número de eixos, todos os demais estarão completos:"
      ],
      "metadata": {
        "id": "0AWgAv41IVPf"
      }
    },
    {
      "cell_type": "code",
      "source": [
        "b[-1]     # A última linha. Equivale a b[-1, :]"
      ],
      "metadata": {
        "id": "JLsv4a2DI-Yw",
        "outputId": "4b175ddd-b561-4e2e-8686-f1a57d57728e",
        "colab": {
          "base_uri": "https://localhost:8080/"
        }
      },
      "execution_count": 48,
      "outputs": [
        {
          "output_type": "execute_result",
          "data": {
            "text/plain": [
              "array([7, 8, 9])"
            ]
          },
          "metadata": {},
          "execution_count": 48
        }
      ]
    },
    {
      "cell_type": "markdown",
      "source": [
        "## Exercício 3\n",
        "\n",
        "* Crie um array 3x3 com valores de 1 a 9.\n",
        "* Extraia a segunda linha.\n",
        "* Extraia o último elemento da primeira linha.\n"
      ],
      "metadata": {
        "id": "AX-QsGU4HRmm"
      }
    },
    {
      "cell_type": "code",
      "source": [
        "import numpy as np\n",
        "\n",
        "a = np.arange(1, 10).reshape(3,3)\n",
        "\n",
        "print(a, \"\\n\")\n",
        "\n",
        "print(a[1, :], \"\\n\")\n",
        "\n",
        "print(a[0, 2])"
      ],
      "metadata": {
        "id": "qo7SyhEvga0t",
        "outputId": "70e8a4e9-34b5-4bc8-c672-1a01310a2e8e",
        "colab": {
          "base_uri": "https://localhost:8080/"
        }
      },
      "execution_count": 54,
      "outputs": [
        {
          "output_type": "stream",
          "name": "stdout",
          "text": [
            "[[1 2 3]\n",
            " [4 5 6]\n",
            " [7 8 9]] \n",
            "\n",
            "[4 5 6] \n",
            "\n",
            "3\n"
          ]
        }
      ]
    },
    {
      "cell_type": "markdown",
      "source": [
        "## Empilhamento e Desmembramento"
      ],
      "metadata": {
        "id": "A3m2Ce1b32HW"
      }
    },
    {
      "cell_type": "markdown",
      "source": [
        "Várias matrizes podem ser empilhadas em diferentes eixos:"
      ],
      "metadata": {
        "id": "xiogCceYNAZG"
      }
    },
    {
      "cell_type": "code",
      "source": [
        "import numpy as np\n",
        "\n",
        "a = np.zeros((3,3))\n",
        "b = np.ones((3,3))\n",
        "\n",
        "print(a, \"\\n\")                   # Exibe a matriz 'a'.\n",
        "print(b, \"\\n\")                   # Exibe a matriz 'b'.\n",
        "\n",
        "print(np.vstack((a, b)), \"\\n\")   # Empilha 'a' e 'b' na vertical.\n",
        "print(np.hstack((a, b)), \"\\n\")   # Empilha 'a' e 'b' na horizontal."
      ],
      "metadata": {
        "id": "z_mZqlj3NMLO",
        "outputId": "430ad17d-8754-436e-a8e5-e917f245ca26",
        "colab": {
          "base_uri": "https://localhost:8080/"
        }
      },
      "execution_count": 50,
      "outputs": [
        {
          "output_type": "stream",
          "name": "stdout",
          "text": [
            "[[0. 0. 0.]\n",
            " [0. 0. 0.]\n",
            " [0. 0. 0.]] \n",
            "\n",
            "[[1. 1. 1.]\n",
            " [1. 1. 1.]\n",
            " [1. 1. 1.]] \n",
            "\n",
            "[[0. 0. 0.]\n",
            " [0. 0. 0.]\n",
            " [0. 0. 0.]\n",
            " [1. 1. 1.]\n",
            " [1. 1. 1.]\n",
            " [1. 1. 1.]] \n",
            "\n",
            "[[0. 0. 0. 1. 1. 1.]\n",
            " [0. 0. 0. 1. 1. 1.]\n",
            " [0. 0. 0. 1. 1. 1.]] \n",
            "\n"
          ]
        }
      ]
    },
    {
      "cell_type": "markdown",
      "source": [
        "`hsplit()` permite desmembrar no eixo horizontal:"
      ],
      "metadata": {
        "id": "zY-wcIPoPniI"
      }
    },
    {
      "cell_type": "code",
      "source": [
        "a = np.arange(18).reshape(3, 6)\n",
        "print(a, \"\\n\")\n",
        "\n",
        "# Desmembra 'a' por colunas em 3 partes iguais\n",
        "parte1, parte2, parte3 = np.hsplit( a, 3)\n",
        "print(\"Parte 1:\\n\", parte1)\n",
        "print(\"Parte 2:\\n\", parte2)\n",
        "print(\"Parte 3:\\n\", parte3)\n",
        "\n",
        "\n",
        "# Dividindo após a 2ª e a 5ª coluna\n",
        "print(\"\\n\")\n",
        "parte1, parte2, parte3 = np.hsplit(a, [1, 4])\n",
        "\n",
        "print(\"Parte 1:\\n\", parte1)\n",
        "print(\"Parte 2:\\n\", parte2)\n",
        "print(\"Parte 3:\\n\", parte3)"
      ],
      "metadata": {
        "id": "kTPHDOAIPuAf",
        "outputId": "8121777d-412c-4f1c-e06c-adcee327b948",
        "colab": {
          "base_uri": "https://localhost:8080/"
        }
      },
      "execution_count": 51,
      "outputs": [
        {
          "output_type": "stream",
          "name": "stdout",
          "text": [
            "[[ 0  1  2  3  4  5]\n",
            " [ 6  7  8  9 10 11]\n",
            " [12 13 14 15 16 17]] \n",
            "\n",
            "Parte 1:\n",
            " [[ 0  1]\n",
            " [ 6  7]\n",
            " [12 13]]\n",
            "Parte 2:\n",
            " [[ 2  3]\n",
            " [ 8  9]\n",
            " [14 15]]\n",
            "Parte 3:\n",
            " [[ 4  5]\n",
            " [10 11]\n",
            " [16 17]]\n",
            "\n",
            "\n",
            "Parte 1:\n",
            " [[ 0]\n",
            " [ 6]\n",
            " [12]]\n",
            "Parte 2:\n",
            " [[ 1  2  3]\n",
            " [ 7  8  9]\n",
            " [13 14 15]]\n",
            "Parte 3:\n",
            " [[ 4  5]\n",
            " [10 11]\n",
            " [16 17]]\n"
          ]
        }
      ]
    },
    {
      "cell_type": "markdown",
      "source": [
        "`vsplit()` desmembra na vertical e `array_split()` permite escolher o eixo."
      ],
      "metadata": {
        "id": "lHJ5S7X-PuMf"
      }
    },
    {
      "cell_type": "markdown",
      "source": [
        "## Exercício 4\n",
        "\n",
        "1. Crie dois arrays 1D, `a` e `b`, com valores de 1 a 5 e de 6 a 10, respectivamente.\n",
        "1. Empilhe `a` e `b` verticalmente para formar um array 2D.\n",
        "1. Em seguida, empilhe `a` e `b` horizontalmente para formar um array 1x10.\n",
        "\n",
        "Dica: Use np.vstack() para empilhamento vertical e np.hstack() para empilhamento horizontal."
      ],
      "metadata": {
        "id": "51J12pDOF2tT"
      }
    },
    {
      "cell_type": "code",
      "source": [
        "import numpy as np\n",
        "\n",
        "a = np.arange(1,6)\n",
        "b = np.arange(6,11)\n",
        "\n",
        "print(a, \"\\n\")\n",
        "print(b, \"\\n\")\n",
        "\n",
        "c = np.vstack((a, b))\n",
        "\n",
        "print(c, \"\\n\")\n",
        "\n",
        "d = np.hstack((a,b))\n",
        "\n",
        "print(d)"
      ],
      "metadata": {
        "id": "LrHs_X0oh1d4",
        "outputId": "77a42075-9af7-46d2-ae0a-b7a6e5e0c7c6",
        "colab": {
          "base_uri": "https://localhost:8080/"
        }
      },
      "execution_count": 60,
      "outputs": [
        {
          "output_type": "stream",
          "name": "stdout",
          "text": [
            "[1 2 3 4 5] \n",
            "\n",
            "[ 6  7  8  9 10] \n",
            "\n",
            "[[ 1  2  3  4  5]\n",
            " [ 6  7  8  9 10]] \n",
            "\n",
            "[ 1  2  3  4  5  6  7  8  9 10]\n"
          ]
        }
      ]
    },
    {
      "cell_type": "markdown",
      "source": [
        "## Cópias e visualizações"
      ],
      "metadata": {
        "id": "HXMKSvne4hG5"
      }
    },
    {
      "cell_type": "markdown",
      "source": [
        "Algumas operações copiam a matriz outras não. Atribuições não fazem cópias de objetos ou dados.\n",
        "\n",
        "Veja os exemplos."
      ],
      "metadata": {
        "id": "G65uhbIHQNIP"
      }
    },
    {
      "cell_type": "code",
      "source": [
        "import numpy as np\n",
        "\n",
        "A = np.zeros((3,3))\n",
        "\n",
        "B = A          ## atribuição não é cópia\n",
        "\n",
        "A[:,1] = 100   ## note que ao alterar \"A\" a matriz \"B\" também será alterada\n",
        "\n",
        "print(\"A = \")\n",
        "print(A)\n",
        "\n",
        "print(\"\\nB = \")\n",
        "print(B)\n",
        "\n",
        "print(\"\\nA e B são o mesmo objeto?\")\n",
        "print(B is A)\n",
        "\n",
        "print(f\"\\nid(A): {id(A)}, id(B): {id(B)}\") ## A e B possuem o mesmo id"
      ],
      "metadata": {
        "id": "XQmeINJ7tpd_",
        "outputId": "176b9516-2664-404c-ebd3-e8d9d3561489",
        "colab": {
          "base_uri": "https://localhost:8080/"
        }
      },
      "execution_count": 55,
      "outputs": [
        {
          "output_type": "stream",
          "name": "stdout",
          "text": [
            "A = \n",
            "[[  0. 100.   0.]\n",
            " [  0. 100.   0.]\n",
            " [  0. 100.   0.]]\n",
            "\n",
            "B = \n",
            "[[  0. 100.   0.]\n",
            " [  0. 100.   0.]\n",
            " [  0. 100.   0.]]\n",
            "\n",
            "A e B são o mesmo objeto?\n",
            "True\n",
            "\n",
            "id(A): 139841853226032, id(B): 139841853226032\n"
          ]
        }
      ]
    },
    {
      "cell_type": "code",
      "source": [
        "## No entanto, pode-se gerar uma cópia\n",
        "import numpy as np\n",
        "\n",
        "A = np.zeros((3,3))\n",
        "\n",
        "B = A.copy()    ## atribuição não é cópia\n",
        "\n",
        "A[:,1] = 100    ## note que ao alterar \"A\", a matriz \"B\" ainda será a mesma.\n",
        "\n",
        "print(\"A = \")\n",
        "print(A)\n",
        "\n",
        "print(\"\\nB = \")\n",
        "print(B)\n",
        "\n",
        "print(\"\\nA e B são o mesmo objeto?\")\n",
        "print(B is A)\n",
        "\n",
        "\n",
        "print(f\"\\nid(A): {id(A)}, id(B): {id(B)}\") ## A e B possuem id's diferentes"
      ],
      "metadata": {
        "id": "cjpdbROrxB2c",
        "outputId": "8a7dbad8-e85b-4be5-b528-8bbd1f0ae685",
        "colab": {
          "base_uri": "https://localhost:8080/"
        }
      },
      "execution_count": 57,
      "outputs": [
        {
          "output_type": "stream",
          "name": "stdout",
          "text": [
            "A = \n",
            "[[  0. 100.   0.]\n",
            " [  0. 100.   0.]\n",
            " [  0. 100.   0.]]\n",
            "\n",
            "B = \n",
            "[[0. 0. 0.]\n",
            " [0. 0. 0.]\n",
            " [0. 0. 0.]]\n",
            "\n",
            "A e B são o mesmo objeto?\n",
            "False\n",
            "\n",
            "id(A): 139842162635088, id(B): 139841853226608\n"
          ]
        }
      ]
    },
    {
      "cell_type": "markdown",
      "source": [
        "O Python passa objetos mutáveis por referência para funções, de modo que a chamada de uma função não faz uma cópia.\n",
        "\n",
        ">  Se um objeto passado por referência for modificado dentro de uma função, ele também será modificado fora dela."
      ],
      "metadata": {
        "id": "6UiNZTlAQaLe"
      }
    },
    {
      "cell_type": "code",
      "source": [
        "def f(x):\n",
        "  return id(x)\n",
        "\n",
        "a = np.zeros((3,3))\n",
        "\n",
        "print(id(a))    # ID é o identificador único do objeto\n",
        "print(f(a))     # mesmo ID\n"
      ],
      "metadata": {
        "id": "OsJSuMcQRLBn",
        "outputId": "5468e3ba-13d5-45e5-a522-5064f06dd85b",
        "colab": {
          "base_uri": "https://localhost:8080/"
        }
      },
      "execution_count": 58,
      "outputs": [
        {
          "output_type": "stream",
          "name": "stdout",
          "text": [
            "139841866199856\n",
            "139841866199856\n"
          ]
        }
      ]
    },
    {
      "cell_type": "markdown",
      "source": [
        "Ou seja, se o objeto for alterado dentro da função, então ele será alterado também fora da função."
      ],
      "metadata": {
        "id": "1O8AzwXyzxGf"
      }
    },
    {
      "cell_type": "code",
      "source": [
        "def f(x):\n",
        "  x[:, 1] = 100\n",
        "  return;\n",
        "\n",
        "A = np.zeros((3,3))\n",
        "f(A)\n",
        "print(A)     # \"A\" foi modificada dentro da função"
      ],
      "metadata": {
        "id": "HCvyaj0Kz9Bg",
        "outputId": "0b09904f-890a-4fc6-a603-f94d39c62a07",
        "colab": {
          "base_uri": "https://localhost:8080/"
        }
      },
      "execution_count": 61,
      "outputs": [
        {
          "output_type": "stream",
          "name": "stdout",
          "text": [
            "[[  0. 100.   0.]\n",
            " [  0. 100.   0.]\n",
            " [  0. 100.   0.]]\n"
          ]
        }
      ]
    },
    {
      "cell_type": "markdown",
      "source": [
        "Para evitar este possível problema, pode-se passar um cópia."
      ],
      "metadata": {
        "id": "ccn2kgxK0uoA"
      }
    },
    {
      "cell_type": "code",
      "source": [
        "def f(x):\n",
        "  x[:, 1] = 100\n",
        "  return;\n",
        "\n",
        "A = np.zeros((3,3))\n",
        "\n",
        "f( A.copy() )  # A cópia de \"A\" é passada para a função\n",
        "\n",
        "print(A)       # A matriz \"A\" continua a mesma"
      ],
      "metadata": {
        "id": "REXGwGo_00OR",
        "outputId": "53ccdb7c-0b5b-4eb8-ed7e-8c5df4d7a1e9",
        "colab": {
          "base_uri": "https://localhost:8080/"
        }
      },
      "execution_count": 62,
      "outputs": [
        {
          "output_type": "stream",
          "name": "stdout",
          "text": [
            "[[0. 0. 0.]\n",
            " [0. 0. 0.]\n",
            " [0. 0. 0.]]\n"
          ]
        }
      ]
    },
    {
      "cell_type": "markdown",
      "source": [
        "Diferentes matrizes podem compartilhar o mesmo dado. O método `view` cria uma visualização da matriz."
      ],
      "metadata": {
        "id": "ZKnIy3FMRLM2"
      }
    },
    {
      "cell_type": "code",
      "source": [
        "import numpy as np\n",
        "\n",
        "a = np.arange(12).reshape(3, 4)\n",
        "print(a, \"\\n\")\n",
        "\n",
        "c = a.view()\n",
        "\n",
        "print(c is a, \"\\n\")      ## \"c\" é uma visualização de \"a\"\n",
        "\n",
        "c = c.reshape((2, 6))    ## Não muda a dimensão de 'a'\n",
        "print(a.shape, \"\\n\")\n",
        "\n",
        "c[0, 4] = 100            ## Muda os dados em 'a'\n",
        "print(a)"
      ],
      "metadata": {
        "id": "V5J0F-A4RpgO",
        "outputId": "07878ce4-fac3-4da9-fa66-056cc161ed9f",
        "colab": {
          "base_uri": "https://localhost:8080/"
        }
      },
      "execution_count": 63,
      "outputs": [
        {
          "output_type": "stream",
          "name": "stdout",
          "text": [
            "[[ 0  1  2  3]\n",
            " [ 4  5  6  7]\n",
            " [ 8  9 10 11]] \n",
            "\n",
            "False \n",
            "\n",
            "(3, 4) \n",
            "\n",
            "[[  0   1   2   3]\n",
            " [100   5   6   7]\n",
            " [  8   9  10  11]]\n"
          ]
        }
      ]
    },
    {
      "cell_type": "markdown",
      "source": [
        "Fatiar uma matriz retorna uma visualização:"
      ],
      "metadata": {
        "id": "HI9rtZm3RptG"
      }
    },
    {
      "cell_type": "code",
      "source": [
        "import numpy as np\n",
        "\n",
        "a = np.arange(12).reshape(3, 4)\n",
        "\n",
        "print(\"a:\\n\",a,\"\\n\")\n",
        "\n",
        "s = a[:, 1:3]          # \"s\" é uma visualização de uma parte de \"a\".\n",
        "print(\"s:\\n\",s,\"\\n\")\n",
        "\n",
        "print(s is a, \"\\n\")\n",
        "\n",
        "s[:] = 10              # s[:] é uma visualização de 's'.\n",
        "print(\"s:\\n\",s,\"\\n\")\n",
        "\n",
        "print(\"a:\\n\",a,\"\\n\")   # ao alterar \"s\", o objeto \"a\" também foi alterado."
      ],
      "metadata": {
        "id": "Jt9kZGJBSMno"
      },
      "execution_count": null,
      "outputs": []
    },
    {
      "cell_type": "markdown",
      "source": [
        "## Exercício 5\n",
        "\n",
        "1. Crie uma matriz A de tamanho 4x3 de zeros.\n",
        "1. Faça `B=A` e `C=A.copy()`.\n",
        "1. Verifique se `B` e `C` são os mesmos objetos utilizando `is`.\n",
        "1. Mostre os id's de `A`, `B` e `C`.\n",
        "1. Altere um elemento de `A` e veja o que acontece com `B` e com `C`."
      ],
      "metadata": {
        "id": "V_lm3i7TG9nn"
      }
    },
    {
      "cell_type": "code",
      "source": [
        "import numpy as np\n",
        "\n",
        "a = np.zeros((4,3))\n",
        "\n",
        "b = a\n",
        "\n",
        "c = a.copy()\n",
        "\n",
        "print(b is c)\n",
        "print(id(a), id(b), id(c), \"\\n\")\n",
        "\n",
        "a[1,:] = 2\n",
        "\n",
        "print(a, \"\\n\")\n",
        "print(b, \"\\n\")\n",
        "print(c, \"\\n\")"
      ],
      "metadata": {
        "id": "dTVWK_lJkbKm",
        "outputId": "864acd3a-f126-4fcb-f928-093c97e1a8e0",
        "colab": {
          "base_uri": "https://localhost:8080/"
        }
      },
      "execution_count": 67,
      "outputs": [
        {
          "output_type": "stream",
          "name": "stdout",
          "text": [
            "False\n",
            "139841852284272 139841852284272 139841851494000 \n",
            "\n",
            "[[0. 0. 0.]\n",
            " [2. 2. 2.]\n",
            " [0. 0. 0.]\n",
            " [0. 0. 0.]] \n",
            "\n",
            "[[0. 0. 0.]\n",
            " [2. 2. 2.]\n",
            " [0. 0. 0.]\n",
            " [0. 0. 0.]] \n",
            "\n",
            "[[0. 0. 0.]\n",
            " [0. 0. 0.]\n",
            " [0. 0. 0.]\n",
            " [0. 0. 0.]] \n",
            "\n"
          ]
        }
      ]
    }
  ]
}